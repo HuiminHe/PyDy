{
 "cells": [
  {
   "cell_type": "markdown",
   "metadata": {},
   "source": [
    "# Equation of motion"
   ]
  },
  {
   "cell_type": "code",
   "execution_count": 1,
   "metadata": {
    "ExecuteTime": {
     "end_time": "2018-03-08T21:05:02.320504Z",
     "start_time": "2018-03-08T21:05:01.514669Z"
    },
    "collapsed": true
   },
   "outputs": [],
   "source": [
    "from sympy import *\n",
    "import numpy as np\n",
    "import cloudpickle\n",
    "\n",
    "from scipy.integrate import odeint, ode\n",
    "import matplotlib.pyplot as plt\n",
    "from matplotlib import animation, rc\n",
    "from IPython.display import HTML\n",
    "from utils import swing_animation"
   ]
  },
  {
   "cell_type": "code",
   "execution_count": 2,
   "metadata": {
    "ExecuteTime": {
     "end_time": "2018-03-08T21:05:02.327480Z",
     "start_time": "2018-03-08T21:05:02.322987Z"
    },
    "collapsed": true
   },
   "outputs": [],
   "source": [
    "# init_printing()"
   ]
  },
  {
   "cell_type": "code",
   "execution_count": 3,
   "metadata": {
    "ExecuteTime": {
     "end_time": "2018-03-08T21:05:02.334248Z",
     "start_time": "2018-03-08T21:05:02.331364Z"
    },
    "collapsed": true
   },
   "outputs": [],
   "source": [
    "# macro\n",
    "frac = Rational"
   ]
  },
  {
   "cell_type": "code",
   "execution_count": 4,
   "metadata": {
    "ExecuteTime": {
     "end_time": "2018-03-08T21:05:02.341949Z",
     "start_time": "2018-03-08T21:05:02.337720Z"
    },
    "collapsed": true
   },
   "outputs": [],
   "source": [
    "# unit vector\n",
    "i = Matrix([1, 0])\n",
    "j = Matrix([0, 1])"
   ]
  },
  {
   "cell_type": "code",
   "execution_count": 5,
   "metadata": {
    "ExecuteTime": {
     "end_time": "2018-03-08T21:05:02.348840Z",
     "start_time": "2018-03-08T21:05:02.344761Z"
    },
    "collapsed": true
   },
   "outputs": [],
   "source": [
    "join = lambda l: Matrix([x for s in l for x in s])"
   ]
  },
  {
   "cell_type": "code",
   "execution_count": 6,
   "metadata": {
    "ExecuteTime": {
     "end_time": "2018-03-08T21:05:02.386157Z",
     "start_time": "2018-03-08T21:05:02.352338Z"
    },
    "collapsed": true
   },
   "outputs": [],
   "source": [
    "q = Matrix(var('q1:4'))\n",
    "dq = Matrix(var('dq1:4'))\n",
    "ddq= Matrix(var('ddq1:4'))\n",
    "\n",
    "z = q.col_join(dq)\n",
    "dz= dq.col_join(ddq)\n",
    "\n",
    "u = Matrix(var('u1:3'))\n",
    "\n",
    "m = Matrix(var('m1:4'))\n",
    "I = Matrix(var('I1:4'))\n",
    "l = Matrix(var('l0:4'))\n",
    "lc = Matrix(var('lc1:4'))\n",
    "d = Matrix(var('d1_2:4'))\n",
    "g = var('g')\n",
    "constraints = Matrix(var('k c w q_max'))\n",
    "parameters = join([m, I, l, lc, d, [g]])\n",
    "# parameters = m.col_join(I).col_join(l).col_join(lc).col_join(d).col_join(Matrix([g]))"
   ]
  },
  {
   "cell_type": "code",
   "execution_count": 7,
   "metadata": {
    "ExecuteTime": {
     "end_time": "2018-03-08T21:05:02.419196Z",
     "start_time": "2018-03-08T21:05:02.389591Z"
    },
    "collapsed": true
   },
   "outputs": [],
   "source": [
    "e0 = cos(q1) * (-j) + sin(q1) * (-i)\n",
    "e1 = cos(q1) * (-i) + sin(q1) * ( j)\n",
    "e2 = cos(q1+q2) * (-j) + sin(q1+q2) * (-i) \n",
    "e3 = cos(q1+q3) * ( j) + sin(q1+q3) * ( i)"
   ]
  },
  {
   "cell_type": "code",
   "execution_count": 8,
   "metadata": {
    "ExecuteTime": {
     "end_time": "2018-03-08T21:05:02.439182Z",
     "start_time": "2018-03-08T21:05:02.421098Z"
    },
    "collapsed": true
   },
   "outputs": [],
   "source": [
    "# position of joints\n",
    "p1 = l0 * e0\n",
    "p2 = p1 + d1_2 *  e1\n",
    "p3 = p1 + d1_3 *(-e1)\n",
    "p21= p2 + l2 * e2\n",
    "p31= p3 + l3 * e3"
   ]
  },
  {
   "cell_type": "code",
   "execution_count": 9,
   "metadata": {
    "ExecuteTime": {
     "end_time": "2018-03-08T21:05:02.452445Z",
     "start_time": "2018-03-08T21:05:02.440943Z"
    },
    "collapsed": true
   },
   "outputs": [],
   "source": [
    "# postion of mass center\n",
    "pc1 = p1 + (d1_2-lc1) * e1\n",
    "pc2 = p2 + lc2 * e2\n",
    "pc3 = p3 + lc3 * e3\n",
    "\n",
    "pc = pc1.row_join(pc2).row_join(pc3)"
   ]
  },
  {
   "cell_type": "code",
   "execution_count": 10,
   "metadata": {
    "ExecuteTime": {
     "end_time": "2018-03-08T21:05:02.508349Z",
     "start_time": "2018-03-08T21:05:02.455323Z"
    },
    "collapsed": true
   },
   "outputs": [],
   "source": [
    "# mass center velocity\n",
    "dpc1 = pc1.jacobian(z) * dz\n",
    "dpc2 = pc2.jacobian(z) * dz\n",
    "dpc3 = pc3.jacobian(z) * dz\n",
    "\n",
    "dpc = dpc1.row_join(dpc2).row_join(dpc3)"
   ]
  },
  {
   "cell_type": "code",
   "execution_count": 11,
   "metadata": {
    "ExecuteTime": {
     "end_time": "2018-03-08T21:05:08.178877Z",
     "start_time": "2018-03-08T21:05:02.511496Z"
    },
    "collapsed": true
   },
   "outputs": [],
   "source": [
    "# Energy\n",
    "T1 = simplify(frac(1, 2) * I1 * dq1 * dq1     + frac(1, 2) * m1 * dpc1.dot(dpc1))\n",
    "T2 = simplify(frac(1, 2) * I2 *(dq1 + dq2)**2 + frac(1, 2) * m2 * dpc2.dot(dpc2))\n",
    "T3 = simplify(frac(1, 2) * I3 *(dq1 + dq3)**2 + frac(1, 2) * m3 * dpc3.dot(dpc3))\n",
    "T = Matrix([T1 + T2 + T3])"
   ]
  },
  {
   "cell_type": "code",
   "execution_count": 12,
   "metadata": {
    "ExecuteTime": {
     "end_time": "2018-03-08T21:05:08.188718Z",
     "start_time": "2018-03-08T21:05:08.180723Z"
    },
    "collapsed": true
   },
   "outputs": [],
   "source": [
    "U = Matrix([m1 * g * pc1[1] + m2 * g * pc2[1] + m3 * g * pc3[1]])"
   ]
  },
  {
   "cell_type": "code",
   "execution_count": 13,
   "metadata": {
    "ExecuteTime": {
     "end_time": "2018-03-08T21:05:08.266185Z",
     "start_time": "2018-03-08T21:05:08.192179Z"
    },
    "collapsed": true
   },
   "outputs": [],
   "source": [
    "tmp = T.jacobian(dq)\n",
    "H = tmp.jacobian(dq)\n",
    "C = tmp.jacobian(q) * dq - T.jacobian(q).T\n",
    "G = U.jacobian(q).T"
   ]
  },
  {
   "cell_type": "code",
   "execution_count": 14,
   "metadata": {
    "ExecuteTime": {
     "end_time": "2018-03-08T21:05:08.273535Z",
     "start_time": "2018-03-08T21:05:08.268425Z"
    },
    "collapsed": true
   },
   "outputs": [],
   "source": [
    "# two actuator\n",
    "B = Matrix(np.vstack([np.zeros(2), np.eye(2)]))"
   ]
  },
  {
   "cell_type": "code",
   "execution_count": 15,
   "metadata": {
    "ExecuteTime": {
     "end_time": "2018-03-08T21:05:08.508267Z",
     "start_time": "2018-03-08T21:05:08.276676Z"
    },
    "collapsed": true
   },
   "outputs": [],
   "source": [
    "ddq = H.LUsolve(-C - G + B * u)\n",
    "# ddq = H.inv() * (-C - G - B * u)\n",
    "# Don't do that. The computation expense is much higher by a few level!!!!!!!!!!\n",
    "ddq_free = H.LUsolve(B * u)"
   ]
  },
  {
   "cell_type": "code",
   "execution_count": 16,
   "metadata": {
    "ExecuteTime": {
     "end_time": "2018-03-08T21:05:09.056894Z",
     "start_time": "2018-03-08T21:05:08.510513Z"
    },
    "collapsed": true
   },
   "outputs": [],
   "source": [
    "ddq_np = lambdify([z, u, parameters], ddq, 'numpy')"
   ]
  },
  {
   "cell_type": "code",
   "execution_count": 17,
   "metadata": {
    "ExecuteTime": {
     "end_time": "2018-03-08T21:05:09.063646Z",
     "start_time": "2018-03-08T21:05:09.059966Z"
    },
    "collapsed": true
   },
   "outputs": [],
   "source": [
    "# parameters.T"
   ]
  },
  {
   "cell_type": "code",
   "execution_count": 18,
   "metadata": {
    "ExecuteTime": {
     "end_time": "2018-03-08T21:05:09.130683Z",
     "start_time": "2018-03-08T21:05:09.066479Z"
    },
    "collapsed": true
   },
   "outputs": [],
   "source": [
    "# kinematics\n",
    "p1_np = lambdify([z, parameters], p1)\n",
    "p2_np = lambdify([z, parameters], p2)\n",
    "p3_np = lambdify([z, parameters], p3)\n",
    "p21_np = lambdify([z, parameters], p21)\n",
    "p31_np = lambdify([z, parameters], p31)"
   ]
  },
  {
   "cell_type": "markdown",
   "metadata": {
    "heading_collapsed": true
   },
   "source": [
    "# Simulation"
   ]
  },
  {
   "cell_type": "code",
   "execution_count": 19,
   "metadata": {
    "ExecuteTime": {
     "end_time": "2018-03-08T21:05:26.054025Z",
     "start_time": "2018-03-08T21:05:26.050833Z"
    },
    "hidden": true
   },
   "outputs": [],
   "source": [
    "# parameters.T"
   ]
  },
  {
   "cell_type": "code",
   "execution_count": 20,
   "metadata": {
    "ExecuteTime": {
     "end_time": "2018-03-08T21:05:27.017414Z",
     "start_time": "2018-03-08T21:05:27.013258Z"
    },
    "collapsed": true,
    "hidden": true
   },
   "outputs": [],
   "source": [
    "param0 = np.array([1, 1, 1, \n",
    "                   1/12, 1/12, 1/12,\n",
    "                   1.5, 1, 1, 1, \n",
    "                   0.5, 0.5, 0.5,\n",
    "                   0.5, 0.5, \n",
    "                   9.8])"
   ]
  },
  {
   "cell_type": "code",
   "execution_count": null,
   "metadata": {
    "collapsed": true,
    "hidden": true
   },
   "outputs": [],
   "source": [
    "def f(y, t, u, param, constraints=None):\n",
    "    if constraints is not None:\n",
    "        ddq = ddq_np(y, u, param, constraints).squeeze()\n",
    "    else:\n",
    "        ddq = ddq_np(y, u, param).squeeze()\n",
    "    return np.r_[y[3:], ddq]"
   ]
  },
  {
   "cell_type": "code",
   "execution_count": null,
   "metadata": {
    "collapsed": true,
    "hidden": true
   },
   "outputs": [],
   "source": [
    "t = np.arange(0, 10, 0.01)\n",
    "y0 = np.array([np.deg2rad(30), 0, 0, 0, 0, 0])\n",
    "u0 = np.array([0, 0])\n",
    "sol = odeint(f, y0, t, args=(u0, param0))"
   ]
  },
  {
   "cell_type": "code",
   "execution_count": null,
   "metadata": {
    "collapsed": true,
    "hidden": true
   },
   "outputs": [],
   "source": [
    "plt.plot(t, sol[:, 0])\n",
    "plt.show()"
   ]
  },
  {
   "cell_type": "code",
   "execution_count": null,
   "metadata": {
    "collapsed": true,
    "hidden": true,
    "scrolled": false
   },
   "outputs": [],
   "source": [
    "anim = swing_animation(sol, param0)\n",
    "HTML(anim.to_html5_video())"
   ]
  },
  {
   "cell_type": "markdown",
   "metadata": {
    "heading_collapsed": true
   },
   "source": [
    "# Comparing odeint with ode\n",
    "-------\n",
    "ODE is slightly faster than odeint"
   ]
  },
  {
   "cell_type": "code",
   "execution_count": null,
   "metadata": {
    "collapsed": true,
    "hidden": true
   },
   "outputs": [],
   "source": [
    "t0 = 0\n",
    "t1 = 10\n",
    "dt = 0.01\n",
    "y0 = np.array([np.deg2rad(30), 0, 0, 0, 0, 0])\n",
    "u0 = np.array([0, 0])\n",
    "\n",
    "def b(t, y, u, param):\n",
    "    ddq = ddq_np(y, u, param).squeeze()\n",
    "    return np.r_[y[3:], ddq]\n",
    "\n",
    "sol2 = []\n",
    "r = ode(b, jac=None).set_initial_value(y0, t0).set_f_params(u0, param0)\n",
    "while r.successful() and r.t < t1 -dt:\n",
    "    sol2.append(r.integrate(r.t+dt))\n",
    "sol2 = np.array(sol2)"
   ]
  },
  {
   "cell_type": "code",
   "execution_count": null,
   "metadata": {
    "collapsed": true,
    "hidden": true
   },
   "outputs": [],
   "source": [
    "fig, ax = plt.subplots(figsize=(6, 6))\n",
    "plt.axis('equal')\n",
    "plt.axis([-3, 3, -3, 3])\n",
    "\n",
    "line1, = ax.plot([], [], lw=1, color='k', linestyle='-', marker='o', ms=5)\n",
    "line2, = ax.plot([], [], lw=2, color='b', linestyle='-', marker='o', ms=3)\n",
    "def init():\n",
    "    line1.set_data([], [])\n",
    "    line2.set_data([], [])\n",
    "    return (line1, line2)\n",
    "def animate(i):\n",
    "    y = sol[i, :]\n",
    "    p1_ = p1_np(sol2[i, :], param0).squeeze()\n",
    "    p2_ = p2_np(sol2[i, :], param0).squeeze()\n",
    "    p3_ = p3_np(sol2[i, :], param0).squeeze()\n",
    "    p21_= p21_np(sol2[i, :], param0).squeeze()\n",
    "    p31_= p31_np(sol2[i, :], param0).squeeze()\n",
    "    # print(np.linalg.norm(p21_ - p2_))\n",
    "    line1.set_data([0, p1_[0]], [0, p1_[1]])\n",
    "    line2.set_data([p21_[0], p2_[0], p3_[0], p31_[0]], [p21_[1], p2_[1], p3_[1], p31_[1]])\n",
    "    return (line1,line2)\n",
    "# call the animator. blit=True means only re-draw the parts that have changed.\n",
    "anim = animation.FuncAnimation(fig, animate, init_func=init,\n",
    "                               frames=1000, interval=10, blit=True)\n",
    "HTML(anim.to_html5_video())"
   ]
  },
  {
   "cell_type": "markdown",
   "metadata": {
    "hidden": true
   },
   "source": [
    "The error between ode45 and odeint is **trivial**. ode is slightly faster than odeint while odeint is more concise in code."
   ]
  },
  {
   "cell_type": "code",
   "execution_count": null,
   "metadata": {
    "collapsed": true,
    "hidden": true
   },
   "outputs": [],
   "source": [
    "## Energy\n",
    "E_np = lambdify([z, parameters], U+T)"
   ]
  },
  {
   "cell_type": "code",
   "execution_count": null,
   "metadata": {
    "collapsed": true,
    "hidden": true
   },
   "outputs": [],
   "source": [
    "E1 = np.array([E_np(sol[i, :], param0) for i in range(len(sol))])\n",
    "E2 = np.array([E_np(sol2[i, :], param0) for i in range(len(sol))])"
   ]
  },
  {
   "cell_type": "markdown",
   "metadata": {
    "heading_collapsed": true
   },
   "source": [
    "# Constarint"
   ]
  },
  {
   "cell_type": "code",
   "execution_count": 21,
   "metadata": {
    "ExecuteTime": {
     "end_time": "2018-03-08T21:05:27.950698Z",
     "start_time": "2018-03-08T21:05:27.911626Z"
    },
    "collapsed": true,
    "hidden": true
   },
   "outputs": [],
   "source": [
    "fc = Matrix([0,\n",
    "                        ( k * (q_max-q2) - c * dq2) / (exp((q_max-q2) / w) + 1) +\n",
    "                        (-k * (q_max+q2) - c * dq2) / (exp((q_max+q2) / w) + 1),\n",
    "                        ( k * (q_max-q3) - c * dq3) / (exp((q_max-q3) / w) + 1) +\n",
    "                        (-k * (q_max+q3) - c * dq3) / (exp((q_max+q3) / w) + 1)\n",
    "                       ])"
   ]
  },
  {
   "cell_type": "code",
   "execution_count": 22,
   "metadata": {
    "ExecuteTime": {
     "end_time": "2018-03-08T21:05:29.432517Z",
     "start_time": "2018-03-08T21:05:29.428819Z"
    },
    "collapsed": true,
    "hidden": true
   },
   "outputs": [],
   "source": [
    "con0 = np.array([100, 10, 0.01, np.deg2rad(80)])"
   ]
  },
  {
   "cell_type": "code",
   "execution_count": 24,
   "metadata": {
    "ExecuteTime": {
     "end_time": "2018-03-08T21:05:35.170683Z",
     "start_time": "2018-03-08T21:05:35.167063Z"
    },
    "collapsed": true,
    "hidden": true,
    "scrolled": true
   },
   "outputs": [],
   "source": [
    "# # test constraint force\n",
    "# fc_np = lambdify([z, parameters, constraints], fc)\n",
    "# fc_lambda = lambda x: fc_np(np.array([0, x, 0, 0, 0, 0]), param0, con0)\n",
    "# res = np.array([fc_lambda(x) for x in np.linspace(-2, 2, 100)]).squeeze()\n",
    "# plt.plot(np.linspace(-2, 2, 100), res[:, 1])\n",
    "# plt.show()"
   ]
  },
  {
   "cell_type": "code",
   "execution_count": 23,
   "metadata": {
    "ExecuteTime": {
     "end_time": "2018-03-08T21:05:33.198878Z",
     "start_time": "2018-03-08T21:05:32.721626Z"
    },
    "collapsed": true,
    "hidden": true
   },
   "outputs": [],
   "source": [
    "ddq = H.LUsolve(-C - G + B * u + fc)\n",
    "ddq_np = lambdify([z, u, parameters, constraints], ddq)"
   ]
  },
  {
   "cell_type": "code",
   "execution_count": null,
   "metadata": {
    "collapsed": true,
    "hidden": true
   },
   "outputs": [],
   "source": [
    "# constraints.T"
   ]
  },
  {
   "cell_type": "code",
   "execution_count": null,
   "metadata": {
    "collapsed": true,
    "hidden": true
   },
   "outputs": [],
   "source": [
    "# con0 = np.array([100, 10, 0.01, np.deg2rad(80)])\n",
    "y0 = np.array([np.deg2rad(60), 0, 0, 1, 2, 2])\n",
    "u0 = np.array([0, 0])\n",
    "sol = odeint(f, y0, t, args=(u0, param0, con0))"
   ]
  },
  {
   "cell_type": "code",
   "execution_count": null,
   "metadata": {
    "collapsed": true,
    "hidden": true
   },
   "outputs": [],
   "source": [
    "fc_ = np.array([fc_np(sol[i, :], param0, con0) for i in range(len(sol))])"
   ]
  },
  {
   "cell_type": "code",
   "execution_count": null,
   "metadata": {
    "collapsed": true,
    "hidden": true
   },
   "outputs": [],
   "source": [
    "# F_np = lambdify([z, parameters], G + C)\n",
    "# [F_np(sol[i, :], param0)[2] for i in range(len(sol))]"
   ]
  },
  {
   "cell_type": "code",
   "execution_count": null,
   "metadata": {
    "collapsed": true,
    "hidden": true
   },
   "outputs": [],
   "source": [
    "fig = plt.figure()\n",
    "ax1 = fig.add_subplot(121)\n",
    "ax2 = fig.add_subplot(122)\n",
    "ax1.plot(sol[:, 2])\n",
    "ax1.plot([0, 1000], [ np.pi/2, np.pi/2], 'r--')\n",
    "ax1.plot([0, 1000], [-np.pi/2,-np.pi/2], 'r--')\n",
    "ax2.plot(fc_[:, 1])\n",
    "plt.show()"
   ]
  },
  {
   "cell_type": "code",
   "execution_count": null,
   "metadata": {
    "collapsed": true,
    "hidden": true,
    "scrolled": false
   },
   "outputs": [],
   "source": [
    "anim = swing_animation(sol, param0)\n",
    "HTML(anim.to_html5_video())"
   ]
  },
  {
   "cell_type": "markdown",
   "metadata": {},
   "source": [
    "# Open loop control"
   ]
  },
  {
   "cell_type": "code",
   "execution_count": 25,
   "metadata": {
    "ExecuteTime": {
     "end_time": "2018-03-08T21:11:42.536563Z",
     "start_time": "2018-03-08T21:11:42.527592Z"
    },
    "collapsed": true
   },
   "outputs": [],
   "source": [
    "ddq1 = -(H[0, 1] * u1 + H[0, 2] * u2 + C[0, 0] + G[0, 0]) / H[0, 0]"
   ]
  },
  {
   "cell_type": "code",
   "execution_count": 26,
   "metadata": {
    "ExecuteTime": {
     "end_time": "2018-03-08T21:11:43.509864Z",
     "start_time": "2018-03-08T21:11:43.506808Z"
    },
    "collapsed": true
   },
   "outputs": [],
   "source": [
    "ddq = Matrix([ddq1, u1, u2])# + H.LUsolve(fc)"
   ]
  },
  {
   "cell_type": "code",
   "execution_count": 27,
   "metadata": {
    "ExecuteTime": {
     "end_time": "2018-03-08T21:11:44.413390Z",
     "start_time": "2018-03-08T21:11:44.322275Z"
    },
    "collapsed": true
   },
   "outputs": [],
   "source": [
    "ddq_np = lambdify([z, u, parameters, constraints], ddq)"
   ]
  },
  {
   "cell_type": "code",
   "execution_count": 28,
   "metadata": {
    "ExecuteTime": {
     "end_time": "2018-03-08T21:11:45.253286Z",
     "start_time": "2018-03-08T21:11:45.249637Z"
    },
    "collapsed": true
   },
   "outputs": [],
   "source": [
    "# u0 = np.array([0, 1])\n",
    "# y0 = np.array([np.pi/3, 0, 0, 0, 0, 0])\n",
    "# ddq_np(y0, u0, param0, con0)"
   ]
  },
  {
   "cell_type": "code",
   "execution_count": 39,
   "metadata": {
    "ExecuteTime": {
     "end_time": "2018-03-08T21:14:26.166640Z",
     "start_time": "2018-03-08T21:14:26.152272Z"
    },
    "collapsed": true
   },
   "outputs": [],
   "source": [
    "con0 = np.array([1000, 100, 0.01, np.deg2rad(75)])\n",
    "amp = np.zeros(2)\n",
    "omega = np.zeros(2)\n",
    "phi = np.zeros(2)\n",
    "\n",
    "# amp = np.ones(2) * 2 * np.pi * 0.7\n",
    "# omega = np.ones(2) * 2.5\n",
    "# phi = np.array([np.pi/2, np.pi/2]) * 2\n",
    "a_max = np.array([10, 10]) * 10\n",
    "q_max = np.ones(2) * con0[-1]\n",
    "# amp * np.sin(omega * np.pi/3 + phi)"
   ]
  },
  {
   "cell_type": "code",
   "execution_count": 40,
   "metadata": {
    "ExecuteTime": {
     "end_time": "2018-03-08T21:14:28.527095Z",
     "start_time": "2018-03-08T21:14:28.522362Z"
    },
    "collapsed": true
   },
   "outputs": [],
   "source": [
    "def fv_gen(amp, omega, phi, q_max):\n",
    "    return lambda t, y: amp * np.sin(omega * t + phi) / (1 + np.exp((np.abs(y[1:3])-q_max) / 0.01) * np.logical_or(np.abs(y[1:3]) < q_max, y[1:3] * y[4:] > 0)) "
   ]
  },
  {
   "cell_type": "code",
   "execution_count": 41,
   "metadata": {
    "ExecuteTime": {
     "end_time": "2018-03-08T21:14:29.104070Z",
     "start_time": "2018-03-08T21:14:29.100095Z"
    },
    "collapsed": true
   },
   "outputs": [],
   "source": [
    "fv = fv_gen(amp, omega, phi, q_max)\n",
    "# fv(0.1, y0)"
   ]
  },
  {
   "cell_type": "code",
   "execution_count": 42,
   "metadata": {
    "ExecuteTime": {
     "end_time": "2018-03-08T21:14:30.301785Z",
     "start_time": "2018-03-08T21:14:30.294962Z"
    },
    "collapsed": true
   },
   "outputs": [],
   "source": [
    "def f_open_loop(y, t_, param, con, a_max, fv, dt=0.01):\n",
    "    v = y[4:]\n",
    "    vt= fv(t_, y)\n",
    "    a = np.clip((vt - v)/dt, -a_max, a_max)\n",
    "    ddq_ = ddq_np(y, a, param, con).squeeze()\n",
    "    return np.r_[y[3:], ddq_]"
   ]
  },
  {
   "cell_type": "code",
   "execution_count": 43,
   "metadata": {
    "ExecuteTime": {
     "end_time": "2018-03-08T21:14:31.385819Z",
     "start_time": "2018-03-08T21:14:31.269273Z"
    },
    "collapsed": true
   },
   "outputs": [],
   "source": [
    "t0 = 0\n",
    "t1 = 10\n",
    "dt = 0.01\n",
    "t = np.arange(t0, t1, dt)\n",
    "q0 = np.array([np.pi/6, 0, 0])\n",
    "a0 = np.array([0, 0])\n",
    "v0 = fv(t0, np.r_[q0, np.zeros(3)])\n",
    "y0 = np.r_[q0, 0, v0]\n",
    "ddq_np(y0, a0, param0, con0)\n",
    "sol = odeint(f_open_loop, y0, t, args=(param0, con0, a_max, fv, dt))"
   ]
  },
  {
   "cell_type": "code",
   "execution_count": 44,
   "metadata": {
    "ExecuteTime": {
     "end_time": "2018-03-08T21:14:32.897455Z",
     "start_time": "2018-03-08T21:14:32.316164Z"
    },
    "scrolled": false
   },
   "outputs": [
    {
     "data": {
      "image/png": "[encoded data removed]",
      "text/plain": [
       "<matplotlib.figure.Figure at 0x7ff6cc7e5d30>"
      ]
     },
     "metadata": {},
     "output_type": "display_data"
    },
    {
     "name": "stdout",
     "output_type": "stream",
     "text": [
      "fail\n"
     ]
    }
   ],
   "source": [
    "fig = swing_plot(t, sol)\n",
    "plt.show(fig)\n",
    "if np.max(np.abs(sol[:, 0])) > np.pi / 2:\n",
    "    print('succeed')\n",
    "else:\n",
    "    print('fail')"
   ]
  },
  {
   "cell_type": "code",
   "execution_count": null,
   "metadata": {},
   "outputs": [],
   "source": [
    "anim = swing_animation(sol, param0)\n",
    "HTML(anim.to_html5_video())"
   ]
  },
  {
   "cell_type": "code",
   "execution_count": null,
   "metadata": {
    "collapsed": true
   },
   "outputs": [],
   "source": [
    "def open_loop_test(amp, omega, phi):\n",
    "    amp = np.array([1, 1]) * 2 * np.pi *amp \n",
    "    omega = np.array([1, 1]) * 10 * omega\n",
    "    phi = np.array([np.pi*2, np.pi*2]) * phi\n",
    "    fv = fv_gen(amp, omega, phi, q_max)\n",
    "    t0 = 0\n",
    "    t1 = 10\n",
    "    dt = 0.01\n",
    "    t = np.arange(t0, t1, dt)\n",
    "    q0 = np.array([np.pi/6, 0, 0])\n",
    "    a0 = np.array([0, 0])\n",
    "    v0 = fv(t0, np.r_[q0, np.zeros(3)])\n",
    "    y0 = np.r_[q0, 0, v0]\n",
    "    ddq_np(y0, a0, param0, con0)\n",
    "    sol = odeint(f, y0, t, args=(param0, con0, a_max, dt))\n",
    "    return sol"
   ]
  },
  {
   "cell_type": "markdown",
   "metadata": {},
   "source": [
    "# Utils"
   ]
  },
  {
   "cell_type": "code",
   "execution_count": 35,
   "metadata": {
    "ExecuteTime": {
     "end_time": "2018-03-08T21:13:11.991793Z",
     "start_time": "2018-03-08T21:13:11.981670Z"
    },
    "collapsed": true
   },
   "outputs": [],
   "source": [
    "def kinematics(y, param):\n",
    "    p1_ = p1_np(y ,param).squeeze()\n",
    "    p2_ = p2_np(y, param).squeeze()\n",
    "    p3_ = p3_np(y, param).squeeze()\n",
    "    p21_= p21_np(y, param).squeeze()\n",
    "    p31_= p31_np(y, param).squeeze()\n",
    "    return (p1_, p2_, p3_, p21_, p31_)"
   ]
  },
  {
   "cell_type": "code",
   "execution_count": 36,
   "metadata": {
    "ExecuteTime": {
     "end_time": "2018-03-08T21:13:12.583710Z",
     "start_time": "2018-03-08T21:13:12.564891Z"
    },
    "collapsed": true
   },
   "outputs": [],
   "source": [
    "def swing_plot(t, sol):\n",
    "    fig, axes = plt.subplots(2, 3, figsize=(9, 7))\n",
    "    axes = axes.ravel()\n",
    "    for i, ax in enumerate(axes):\n",
    "        ax.plot(t, sol[:, i])\n",
    "        if i < 3:\n",
    "            ax.plot([t[0], t[-1]], [ np.pi/2, np.pi/2], 'r--')\n",
    "            ax.plot([t[0], t[-1]], [-np.pi/2,-np.pi/2], 'r--')\n",
    "            ax.set_title('$q_{}$'.format(i+1))\n",
    "        else:\n",
    "            ax.set_title('$\\dot{q}_' + '{}$'.format(i-2))\n",
    "    return fig\n"
   ]
  },
  {
   "cell_type": "code",
   "execution_count": 37,
   "metadata": {
    "ExecuteTime": {
     "end_time": "2018-03-08T21:13:13.138319Z",
     "start_time": "2018-03-08T21:13:13.094876Z"
    },
    "collapsed": true
   },
   "outputs": [],
   "source": [
    "def swing_animation(sol, param0):\n",
    "    fig, ax = plt.subplots(figsize=(6, 6))\n",
    "    plt.axis('equal')\n",
    "    plt.axis([-3, 3, -3, 3])\n",
    "\n",
    "    line1, = ax.plot([], [], lw=1, color='k', linestyle='-', marker='o', ms=5)\n",
    "    line2, = ax.plot([], [], lw=2, color='b', linestyle='-', marker='o', ms=3)\n",
    "\n",
    "    def init():\n",
    "        line1.set_data([], [])\n",
    "        line2.set_data([], [])\n",
    "        return (line1, line2)\n",
    "\n",
    "    def animate(i):\n",
    "        y = sol[i, :]\n",
    "        p1, p2, p3, p21, p31 = kinematic(sol[i, :], param0)\n",
    "        line1.set_data([0, p1[0]], [0, p1[1]])\n",
    "        line2.set_data([p21[0], p2[0], p3[0], p31[0]], [p21[1], p2[1], p3[1], p31[1]])\n",
    "        return (line1,line2)\n",
    "    # call the animator. blit=True means only re-draw the parts that have changed.\n",
    "    anim = animation.FuncAnimation(fig, animate, init_func=init,\n",
    "                                   frames=1000, interval=10, blit=True)\n",
    "    return anim"
   ]
  },
  {
   "cell_type": "markdown",
   "metadata": {},
   "source": [
    "# Serialization"
   ]
  },
  {
   "cell_type": "code",
   "execution_count": 46,
   "metadata": {
    "ExecuteTime": {
     "end_time": "2018-03-08T21:14:45.990073Z",
     "start_time": "2018-03-08T21:14:45.928347Z"
    }
   },
   "outputs": [],
   "source": [
    "#cloudpickle.dump(f, open('swing_dynamic.dll', 'wb'))\n",
    "cloudpickle.dump(f_open_loop, open('swing_open_loop_dynamic.dll', 'wb'))\n",
    "cloudpickle.dump(kinematics, open('swing_kinematic.dll', 'wb'))"
   ]
  },
  {
   "cell_type": "code",
   "execution_count": null,
   "metadata": {
    "collapsed": true
   },
   "outputs": [],
   "source": [
    "from collections import namedtuple"
   ]
  },
  {
   "cell_type": "code",
   "execution_count": null,
   "metadata": {
    "collapsed": true
   },
   "outputs": [],
   "source": [
    "Solution = namedtuple('Solution', ['t', 'response', 'parameters'])"
   ]
  },
  {
   "cell_type": "code",
   "execution_count": null,
   "metadata": {
    "collapsed": true
   },
   "outputs": [],
   "source": [
    "sol1 = Solution(t, sol, param0)"
   ]
  },
  {
   "cell_type": "code",
   "execution_count": null,
   "metadata": {
    "collapsed": true
   },
   "outputs": [],
   "source": [
    "cloudpickle.dump(sol1, open('./sol_eg.pkl', 'wb'))"
   ]
  }
 ],
 "metadata": {
  "hide_input": false,
  "kernelspec": {
   "display_name": "Python 3",
   "language": "python",
   "name": "python3"
  },
  "language_info": {
   "codemirror_mode": {
    "name": "ipython",
    "version": 3
   },
   "file_extension": ".py",
   "mimetype": "text/x-python",
   "name": "python",
   "nbconvert_exporter": "python",
   "pygments_lexer": "ipython3",
   "version": "3.6.2"
  },
  "latex_envs": {
   "LaTeX_envs_menu_present": true,
   "autocomplete": true,
   "bibliofile": "biblio.bib",
   "cite_by": "apalike",
   "current_citInitial": 1,
   "eqLabelWithNumbers": true,
   "eqNumInitial": 1,
   "hotkeys": {
    "equation": "Ctrl-E",
    "itemize": "Ctrl-I"
   },
   "labels_anchors": false,
   "latex_user_defs": false,
   "report_style_numbering": false,
   "user_envs_cfg": false
  },
  "toc": {
   "nav_menu": {},
   "number_sections": true,
   "sideBar": true,
   "skip_h1_title": false,
   "title_cell": "Table of Contents",
   "title_sidebar": "Contents",
   "toc_cell": false,
   "toc_position": {},
   "toc_section_display": true,
   "toc_window_display": false
  },
  "varInspector": {
   "cols": {
    "lenName": 16,
    "lenType": 16,
    "lenVar": 40
   },
   "kernels_config": {
    "python": {
     "delete_cmd_postfix": "",
     "delete_cmd_prefix": "del ",
     "library": "var_list.py",
     "varRefreshCmd": "print(var_dic_list())"
    },
    "r": {
     "delete_cmd_postfix": ") ",
     "delete_cmd_prefix": "rm(",
     "library": "var_list.r",
     "varRefreshCmd": "cat(var_dic_list()) "
    }
   },
   "types_to_exclude": [
    "module",
    "function",
    "builtin_function_or_method",
    "instance",
    "_Feature"
   ],
   "window_display": false
  }
 },
 "nbformat": 4,
 "nbformat_minor": 2
}
