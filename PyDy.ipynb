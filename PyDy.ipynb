{
 "cells": [
  {
   "cell_type": "code",
   "execution_count": 2,
   "metadata": {
    "ExecuteTime": {
     "end_time": "2018-03-07T02:24:49.243595Z",
     "start_time": "2018-03-07T02:24:48.889316Z"
    }
   },
   "outputs": [],
   "source": [
    "from sympy import *"
   ]
  },
  {
   "cell_type": "code",
   "execution_count": 4,
   "metadata": {
    "ExecuteTime": {
     "end_time": "2018-03-07T02:24:52.452369Z",
     "start_time": "2018-03-07T02:24:52.141319Z"
    },
    "collapsed": true
   },
   "outputs": [],
   "source": [
    "init_printing()"
   ]
  },
  {
   "cell_type": "code",
   "execution_count": 3,
   "metadata": {
    "ExecuteTime": {
     "end_time": "2018-03-07T02:24:50.461652Z",
     "start_time": "2018-03-07T02:24:50.457860Z"
    }
   },
   "outputs": [],
   "source": [
    "x, dx = var('x, \\dot{x}')\n",
    "m, k, c, g= var('m k c g')"
   ]
  },
  {
   "cell_type": "code",
   "execution_count": 5,
   "metadata": {
    "ExecuteTime": {
     "end_time": "2018-03-07T02:24:53.119322Z",
     "start_time": "2018-03-07T02:24:53.102170Z"
    }
   },
   "outputs": [],
   "source": [
    "T = Matrix([Rational(1, 2) * m * dx**2])\n",
    "U = Matrix([Rational(1, 2) * k * ((x-1) * Heaviside(x-1))**2 +  - m * g * x])"
   ]
  },
  {
   "cell_type": "code",
   "execution_count": 6,
   "metadata": {
    "ExecuteTime": {
     "end_time": "2018-03-07T02:24:53.830586Z",
     "start_time": "2018-03-07T02:24:53.807725Z"
    }
   },
   "outputs": [],
   "source": [
    "D = T.jacobian(Matrix([dx])).jacobian(Matrix([dx]))\n",
    "C = T.jacobian(Matrix([dx])).jacobian(Matrix([x]))\n",
    "G = -(T - U).jacobian(Matrix([x])) "
   ]
  },
  {
   "cell_type": "code",
   "execution_count": 7,
   "metadata": {
    "ExecuteTime": {
     "end_time": "2018-03-07T02:24:54.261975Z",
     "start_time": "2018-03-07T02:24:54.257246Z"
    },
    "collapsed": true
   },
   "outputs": [],
   "source": [
    "f = Matrix([(- c * dx) * Heaviside(x-1)])"
   ]
  },
  {
   "cell_type": "code",
   "execution_count": 8,
   "metadata": {
    "ExecuteTime": {
     "end_time": "2018-03-07T02:24:54.822905Z",
     "start_time": "2018-03-07T02:24:54.818766Z"
    },
    "collapsed": true
   },
   "outputs": [],
   "source": [
    "p = [m, k, c, g]\n",
    "v = [x, dx]"
   ]
  },
  {
   "cell_type": "code",
   "execution_count": 9,
   "metadata": {
    "ExecuteTime": {
     "end_time": "2018-03-07T02:24:55.549244Z",
     "start_time": "2018-03-07T02:24:55.524615Z"
    }
   },
   "outputs": [],
   "source": [
    "D_mat = lambdify(p+v, D, modules=['numpy', 'sympy'])\n",
    "G_mat = lambdify(p+v, G, modules=['numpy', 'sympy'])\n",
    "f_mat = lambdify(p+v, f, modules=['numpy', 'sympy'])"
   ]
  },
  {
   "cell_type": "code",
   "execution_count": 10,
   "metadata": {
    "ExecuteTime": {
     "end_time": "2018-03-07T02:24:56.231936Z",
     "start_time": "2018-03-07T02:24:56.224035Z"
    }
   },
   "outputs": [],
   "source": [
    "ddq = D.inv().dot(-G+f)"
   ]
  },
  {
   "cell_type": "code",
   "execution_count": 11,
   "metadata": {
    "ExecuteTime": {
     "end_time": "2018-03-07T02:24:56.702944Z",
     "start_time": "2018-03-07T02:24:56.684616Z"
    },
    "collapsed": true
   },
   "outputs": [],
   "source": [
    "ddq_mat = lambdify(v+p, ddq, modules=['numpy', 'sympy'])"
   ]
  },
  {
   "cell_type": "code",
   "execution_count": 12,
   "metadata": {
    "ExecuteTime": {
     "end_time": "2018-03-07T02:24:57.416281Z",
     "start_time": "2018-03-07T02:24:57.413144Z"
    }
   },
   "outputs": [],
   "source": [
    "p1 = [1, 1000, 1000, 9.8]\n",
    "v1 = [0.0, 0]"
   ]
  },
  {
   "cell_type": "code",
   "execution_count": 13,
   "metadata": {
    "ExecuteTime": {
     "end_time": "2018-03-07T02:24:58.694072Z",
     "start_time": "2018-03-07T02:24:58.690325Z"
    },
    "collapsed": true
   },
   "outputs": [],
   "source": [
    "v2 = [2.0, 0]"
   ]
  },
  {
   "cell_type": "code",
   "execution_count": 15,
   "metadata": {
    "ExecuteTime": {
     "end_time": "2018-03-07T02:25:05.338760Z",
     "start_time": "2018-03-07T02:25:05.334690Z"
    },
    "collapsed": true
   },
   "outputs": [],
   "source": [
    "def foo(t, x, p):\n",
    "    return np.array([x[1], ddq_mat(*(x+p))])"
   ]
  },
  {
   "cell_type": "code",
   "execution_count": 16,
   "metadata": {
    "ExecuteTime": {
     "end_time": "2018-03-07T02:25:09.143854Z",
     "start_time": "2018-03-07T02:25:09.066626Z"
    },
    "collapsed": true
   },
   "outputs": [],
   "source": [
    "from scipy.integrate import odeint"
   ]
  },
  {
   "cell_type": "code",
   "execution_count": 17,
   "metadata": {
    "ExecuteTime": {
     "end_time": "2018-03-07T02:25:09.759032Z",
     "start_time": "2018-03-07T02:25:09.756204Z"
    },
    "collapsed": true
   },
   "outputs": [],
   "source": [
    "import numpy as np"
   ]
  },
  {
   "cell_type": "code",
   "execution_count": 18,
   "metadata": {
    "ExecuteTime": {
     "end_time": "2018-03-07T02:25:10.270528Z",
     "start_time": "2018-03-07T02:25:10.267026Z"
    },
    "collapsed": true
   },
   "outputs": [],
   "source": [
    "t = np.linspace(0, 10, 100)"
   ]
  },
  {
   "cell_type": "code",
   "execution_count": 19,
   "metadata": {
    "ExecuteTime": {
     "end_time": "2018-03-07T02:25:10.824339Z",
     "start_time": "2018-03-07T02:25:10.819986Z"
    }
   },
   "outputs": [],
   "source": [
    "sol = odeint(foo, t, v1, args=(p1,))"
   ]
  },
  {
   "cell_type": "code",
   "execution_count": null,
   "metadata": {
    "ExecuteTime": {
     "end_time": "2018-03-07T02:24:23.101744Z"
    }
   },
   "outputs": [],
   "source": [
    "y, dy = sol[0, :], sol[1, :]"
   ]
  },
  {
   "cell_type": "code",
   "execution_count": 176,
   "metadata": {
    "collapsed": true
   },
   "outputs": [],
   "source": [
    "import matplotlib.pyplot as plt\n",
    "%matplotlib inline"
   ]
  },
  {
   "cell_type": "code",
   "execution_count": 177,
   "metadata": {},
   "outputs": [
    {
     "data": {
      "text/plain": [
       "[<matplotlib.lines.Line2D at 0x7fa8a92efe10>]"
      ]
     },
     "execution_count": 177,
     "metadata": {},
     "output_type": "execute_result"
    },
    {
     "data": {
      "image/png": "[encoded data removed]",
      "text/plain": [
       "<matplotlib.figure.Figure at 0x7fa8a92ccf28>"
      ]
     },
     "metadata": {},
     "output_type": "display_data"
    }
   ],
   "source": [
    "plt.plot(y)"
   ]
  }
 ],
 "metadata": {
  "hide_input": false,
  "kernelspec": {
   "display_name": "Python 3",
   "language": "python",
   "name": "python3"
  },
  "language_info": {
   "codemirror_mode": {
    "name": "ipython",
    "version": 3
   },
   "file_extension": ".py",
   "mimetype": "text/x-python",
   "name": "python",
   "nbconvert_exporter": "python",
   "pygments_lexer": "ipython3",
   "version": "3.6.2"
  },
  "latex_envs": {
   "LaTeX_envs_menu_present": true,
   "autocomplete": true,
   "bibliofile": "biblio.bib",
   "cite_by": "apalike",
   "current_citInitial": 1,
   "eqLabelWithNumbers": true,
   "eqNumInitial": 1,
   "hotkeys": {
    "equation": "Ctrl-E",
    "itemize": "Ctrl-I"
   },
   "labels_anchors": false,
   "latex_user_defs": false,
   "report_style_numbering": false,
   "user_envs_cfg": false
  },
  "toc": {
   "nav_menu": {},
   "number_sections": true,
   "sideBar": true,
   "skip_h1_title": false,
   "title_cell": "Table of Contents",
   "title_sidebar": "Contents",
   "toc_cell": false,
   "toc_position": {},
   "toc_section_display": true,
   "toc_window_display": false
  },
  "varInspector": {
   "cols": {
    "lenName": 16,
    "lenType": 16,
    "lenVar": 40
   },
   "kernels_config": {
    "python": {
     "delete_cmd_postfix": "",
     "delete_cmd_prefix": "del ",
     "library": "var_list.py",
     "varRefreshCmd": "print(var_dic_list())"
    },
    "r": {
     "delete_cmd_postfix": ") ",
     "delete_cmd_prefix": "rm(",
     "library": "var_list.r",
     "varRefreshCmd": "cat(var_dic_list()) "
    }
   },
   "types_to_exclude": [
    "module",
    "function",
    "builtin_function_or_method",
    "instance",
    "_Feature"
   ],
   "window_display": false
  }
 },
 "nbformat": 4,
 "nbformat_minor": 2
}
